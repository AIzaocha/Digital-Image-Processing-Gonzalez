{
 "cells": [
  {
   "cell_type": "markdown",
   "metadata": {},
   "source": [
    "**Example 2.9:** Image rotation and intensity interpolation.\n",
    "\n",
    "This includes figure 2.36\n",
    "\n",
    "> This code is written with Julia v1.0.0, Images v0.16.1"
   ]
  },
  {
   "cell_type": "code",
   "execution_count": 1,
   "metadata": {},
   "outputs": [],
   "source": [
    "using Printf # format string in C style\n",
    "using Images # core package for image\n",
    "using CoordinateTransformations, Interpolations # for image rotation"
   ]
  },
  {
   "cell_type": "code",
   "execution_count": 2,
   "metadata": {},
   "outputs": [
    {
     "name": "stdout",
     "output_type": "stream",
     "text": [
      "summary(img_ori) = \"540×420 Array{Gray{Float32},2} with eltype Gray{Float32}\"\n"
     ]
    },
    {
     "data": {
      "image/png": "[encoded data removed]",
      "text/plain": [
       "540×420 Array{Gray{Float32},2} with eltype Gray{Float32}:\n",
       " Gray{Float32}(0.0)        …  Gray{Float32}(0.0)       \n",
       " Gray{Float32}(0.0)           Gray{Float32}(0.0)       \n",
       " Gray{Float32}(0.0)           Gray{Float32}(0.0)       \n",
       " Gray{Float32}(0.0)           Gray{Float32}(0.0)       \n",
       " Gray{Float32}(0.0)           Gray{Float32}(0.0)       \n",
       " Gray{Float32}(0.0)        …  Gray{Float32}(0.0)       \n",
       " Gray{Float32}(0.0)           Gray{Float32}(0.0)       \n",
       " Gray{Float32}(0.0)           Gray{Float32}(0.0)       \n",
       " Gray{Float32}(0.0)           Gray{Float32}(0.0)       \n",
       " Gray{Float32}(0.0)           Gray{Float32}(0.0)       \n",
       " Gray{Float32}(0.0)        …  Gray{Float32}(0.0)       \n",
       " Gray{Float32}(0.0)           Gray{Float32}(0.0)       \n",
       " Gray{Float32}(0.0)           Gray{Float32}(0.0)       \n",
       " ⋮                         ⋱                           \n",
       " Gray{Float32}(0.0980392)     Gray{Float32}(0.0)       \n",
       " Gray{Float32}(0.0980392)     Gray{Float32}(0.0)       \n",
       " Gray{Float32}(0.0980392)  …  Gray{Float32}(0.0)       \n",
       " Gray{Float32}(0.0980392)     Gray{Float32}(0.0)       \n",
       " Gray{Float32}(0.0980392)     Gray{Float32}(0.0)       \n",
       " Gray{Float32}(0.0980392)     Gray{Float32}(0.0)       \n",
       " Gray{Float32}(0.0980392)     Gray{Float32}(0.0)       \n",
       " Gray{Float32}(0.0980392)  …  Gray{Float32}(0.0)       \n",
       " Gray{Float32}(0.0980392)     Gray{Float32}(0.0)       \n",
       " Gray{Float32}(0.0980392)     Gray{Float32}(0.00392157)\n",
       " Gray{Float32}(0.0980392)     Gray{Float32}(0.0980392) \n",
       " Gray{Float32}(0.0980392)     Gray{Float32}(0.0980392) "
      ]
     },
     "execution_count": 2,
     "metadata": {},
     "output_type": "execute_result"
    }
   ],
   "source": [
    "img_ori = load(\"Data/Fig0236(a)(letter_T).tif\") .|> float32 # use Float32 to avoid unwanted overflow in N0f8\n",
    "@show summary(img_ori)\n",
    "\n",
    "img_ori"
   ]
  },
  {
   "cell_type": "code",
   "execution_count": 3,
   "metadata": {},
   "outputs": [
    {
     "ename": "ErrorException",
     "evalue": "OnGrid/OnCell is not supplied for some of the interpolation modes in BSpline(Cubic(Line()))",
     "output_type": "error",
     "traceback": [
      "OnGrid/OnCell is not supplied for some of the interpolation modes in BSpline(Cubic(Line()))",
      "",
      "Stacktrace:",
      " [1] error(::String) at ./error.jl:33",
      " [2] (::getfield(Interpolations, Symbol(\"#err_incomplete#8\")))(::BSpline{Cubic{Line{Nothing}}}) at /Users/jc/.julia/packages/Interpolations/s7aNF/src/b-splines/b-splines.jl:50",
      " [3] Interpolations.BSplineInterpolation(::Type{Float64}, ::OffsetArrays.OffsetArray{Gray{Float32},2,Array{Gray{Float32},2}}, ::BSpline{Cubic{Line{Nothing}}}, ::Tuple{Base.OneTo{Int64},Base.OneTo{Int64}}) at /Users/jc/.julia/packages/Interpolations/s7aNF/src/b-splines/b-splines.jl:54",
      " [4] interpolate(::Type{Float64}, ::Type{Gray{Float32}}, ::Array{Gray{Float32},2}, ::BSpline{Cubic{Line{Nothing}}}) at /Users/jc/.julia/packages/Interpolations/s7aNF/src/b-splines/b-splines.jl:104",
      " [5] interpolate(::Array{Gray{Float32},2}, ::BSpline{Cubic{Line{Nothing}}}) at /Users/jc/.julia/packages/Interpolations/s7aNF/src/b-splines/b-splines.jl:123",
      " [6] box_extrapolation(::Array{Gray{Float32},2}, ::Cubic{Line{Nothing}}) at /Users/jc/.julia/packages/ImageTransformations/CGe4u/src/interpolations.jl:32",
      " [7] warp(::Array{Gray{Float32},2}, ::AffineMap{RotMatrix{2,Float64,4},StaticArrays.SArray{Tuple{2},Float64,1,2}}, ::Tuple{Base.OneTo{Int64},Base.OneTo{Int64}}, ::Cubic{Line{Nothing}}) at /Users/jc/.julia/packages/ImageTransformations/CGe4u/src/warp.jl:95",
      " [8] (::getfield(Main, Symbol(\"##3#4\")))(::Cubic{Line{Nothing}}) at ./none:0",
      " [9] iterate at ./generator.jl:47 [inlined]",
      " [10] collect_to!(::Array{Array{Gray{Float32},2},1}, ::Base.Generator{Array{Interpolations.Degree,1},getfield(Main, Symbol(\"##3#4\"))}, ::Int64, ::Int64) at ./array.jl:656",
      " [11] collect_to_with_first!(::Array{Array{Gray{Float32},2},1}, ::Array{Gray{Float32},2}, ::Base.Generator{Array{Interpolations.Degree,1},getfield(Main, Symbol(\"##3#4\"))}, ::Int64) at ./array.jl:643",
      " [12] collect(::Base.Generator{Array{Interpolations.Degree,1},getfield(Main, Symbol(\"##3#4\"))}) at ./array.jl:624",
      " [13] top-level scope at In[3]:3"
     ]
    }
   ],
   "source": [
    "rot_deg = 21\n",
    "tfm = recenter(RotMatrix((2pi)/(360/rot_deg)), center(img_ori))\n",
    "imgs_rotate = [warp(img_ori, tfm, axes(img_ori), interp) \n",
    "    for interp in [Constant(), Linear(), Cubic(Line())]]\n",
    "\n",
    "[img_ori hcat(imgs_rotate...)]"
   ]
  },
  {
   "cell_type": "markdown",
   "metadata": {},
   "source": [
    "事实上，我写了一个`imrotate` wrapper来完成这一工作，见[JuliaImages/ImageTransformations.jl#58 (comment)](https://github.com/JuliaImages/ImageTransformations.jl/pull/58)"
   ]
  },
  {
   "cell_type": "code",
   "execution_count": 4,
   "metadata": {},
   "outputs": [
    {
     "data": {
      "text/plain": [
       "imrotate"
      ]
     },
     "execution_count": 4,
     "metadata": {},
     "output_type": "execute_result"
    }
   ],
   "source": [
    "\"\"\"\n",
    "    imrotate(img, angle; fill = NaN, method = \"nearest\", bbox = \"loose\") -> imgout\n",
    "\n",
    "Rotate image `img` by `angle` degrees in a counterclockwise direction around its center point. To rotate the image clockwise, specify a negative value for angle.\n",
    "\n",
    "# Arguments\n",
    "- `img::AbstractArray`: image to be rotated\n",
    "- `angle::Real`: amount of rotation in degrees. The rotation is in counterclockwise direction.\n",
    "- `fill::Real`: filling value for pixel outside of original image. Defaults: `NaN` if the element type supports it, and `0` otherwise\n",
    "- `method::String = \"nearest\"`: the interpolation method used in rotation. Options are \"nearest\" or \"bilinear\"\n",
    "- `bbox::String = \"loose\"`: the bounding box defines the size of output image. If `bbox = \"crop\"`, then output image `imgout` are cropped to has the same size of input image `img`. If `bbox = \"loose\"`, then `imgout` is large enough to contain the entire rotated image; `imgout` is larger than `img`.\n",
    "\n",
    "See also [`warp`](@ref).\n",
    "\"\"\"\n",
    "function imrotate(img::AbstractArray{T}, angle::Real; fill = NaN, method::String = \"nearest\", bbox::String = \"loose\")::AbstractArray{T} where T\n",
    "\n",
    "    # FIXME: Bicubic method does not support N0f8 type.\n",
    "    args = []\n",
    "    push!(args,\n",
    "        if method == \"nearest\"\n",
    "            Constant()\n",
    "        elseif method == \"bilinear\"\n",
    "            Linear()\n",
    "        else\n",
    "            ArgumentError(\"method should be: nearest, bilinear\")\n",
    "        end)\n",
    "    if !isnan(fill)\n",
    "        push!(args, fill)\n",
    "    end\n",
    "\n",
    "    rotate_fun(img, tform, args...) =\n",
    "    if bbox == \"loose\"\n",
    "        warp(img, tform, args...)\n",
    "    elseif bbox == \"crop\"\n",
    "        warp(img, tform, axes(img), args...)\n",
    "    else\n",
    "        ArgumentError(\"bbox should be: loose, crop\")\n",
    "    end\n",
    "    \n",
    "    tfm = recenter(RotMatrix{2}(mod2pi(1*angle)), center(img))\n",
    "    rotate_fun(img, tfm, args...)\n",
    "end"
   ]
  },
  {
   "cell_type": "code",
   "execution_count": 5,
   "metadata": {
    "scrolled": true
   },
   "outputs": [
    {
     "data": {
      "image/png": "[encoded data removed]",
      "text/plain": [
       "540×1260 Array{Gray{Float32},2} with eltype Gray{Float32}:\n",
       " Gray{Float32}(0.0)        Gray{Float32}(0.0)        …  Gray{Float32}(NaN)\n",
       " Gray{Float32}(0.0)        Gray{Float32}(0.0)           Gray{Float32}(NaN)\n",
       " Gray{Float32}(0.0)        Gray{Float32}(0.0)           Gray{Float32}(NaN)\n",
       " Gray{Float32}(0.0)        Gray{Float32}(0.0)           Gray{Float32}(NaN)\n",
       " Gray{Float32}(0.0)        Gray{Float32}(0.0)           Gray{Float32}(NaN)\n",
       " Gray{Float32}(0.0)        Gray{Float32}(0.0)        …  Gray{Float32}(NaN)\n",
       " Gray{Float32}(0.0)        Gray{Float32}(0.0)           Gray{Float32}(NaN)\n",
       " Gray{Float32}(0.0)        Gray{Float32}(0.0)           Gray{Float32}(NaN)\n",
       " Gray{Float32}(0.0)        Gray{Float32}(0.0)           Gray{Float32}(NaN)\n",
       " Gray{Float32}(0.0)        Gray{Float32}(0.0)           Gray{Float32}(NaN)\n",
       " Gray{Float32}(0.0)        Gray{Float32}(0.0)        …  Gray{Float32}(NaN)\n",
       " Gray{Float32}(0.0)        Gray{Float32}(0.0)           Gray{Float32}(NaN)\n",
       " Gray{Float32}(0.0)        Gray{Float32}(0.0)           Gray{Float32}(NaN)\n",
       " ⋮                                                   ⋱                    \n",
       " Gray{Float32}(0.0980392)  Gray{Float32}(0.0980392)     Gray{Float32}(NaN)\n",
       " Gray{Float32}(0.0980392)  Gray{Float32}(0.0980392)     Gray{Float32}(NaN)\n",
       " Gray{Float32}(0.0980392)  Gray{Float32}(0.0980392)  …  Gray{Float32}(NaN)\n",
       " Gray{Float32}(0.0980392)  Gray{Float32}(0.0980392)     Gray{Float32}(NaN)\n",
       " Gray{Float32}(0.0980392)  Gray{Float32}(0.0980392)     Gray{Float32}(NaN)\n",
       " Gray{Float32}(0.0980392)  Gray{Float32}(0.0980392)     Gray{Float32}(NaN)\n",
       " Gray{Float32}(0.0980392)  Gray{Float32}(0.0980392)     Gray{Float32}(NaN)\n",
       " Gray{Float32}(0.0980392)  Gray{Float32}(0.0980392)  …  Gray{Float32}(NaN)\n",
       " Gray{Float32}(0.0980392)  Gray{Float32}(0.0980392)     Gray{Float32}(NaN)\n",
       " Gray{Float32}(0.0980392)  Gray{Float32}(0.0980392)     Gray{Float32}(NaN)\n",
       " Gray{Float32}(0.0980392)  Gray{Float32}(0.0980392)     Gray{Float32}(NaN)\n",
       " Gray{Float32}(0.0980392)  Gray{Float32}(0.0980392)     Gray{Float32}(NaN)"
      ]
     },
     "execution_count": 5,
     "metadata": {},
     "output_type": "execute_result"
    }
   ],
   "source": [
    "rot_deg = 21\n",
    "imgs_rotate = [imrotate(img_ori,rot_deg*pi/180,method=method,bbox=\"crop\")\n",
    "    for method in [\"nearest\",\"bilinear\"]]\n",
    "\n",
    "[img_ori hcat(imgs_rotate...)]"
   ]
  }
 ],
 "metadata": {
  "kernelspec": {
   "display_name": "Julia 1.0.0",
   "language": "julia",
   "name": "julia-1.0"
  },
  "language_info": {
   "file_extension": ".jl",
   "mimetype": "application/julia",
   "name": "julia",
   "version": "1.0.0"
  }
 },
 "nbformat": 4,
 "nbformat_minor": 2
}
